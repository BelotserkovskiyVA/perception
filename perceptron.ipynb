{
 "cells": [
  {
   "cell_type": "code",
   "execution_count": 3,
   "id": "6e3f1c59",
   "metadata": {},
   "outputs": [],
   "source": [
    "import pandas as pd"
   ]
  },
  {
   "cell_type": "code",
   "execution_count": 4,
   "id": "c81aa70c",
   "metadata": {},
   "outputs": [
    {
     "data": {
      "text/html": [
       "<div>\n",
       "<style scoped>\n",
       "    .dataframe tbody tr th:only-of-type {\n",
       "        vertical-align: middle;\n",
       "    }\n",
       "\n",
       "    .dataframe tbody tr th {\n",
       "        vertical-align: top;\n",
       "    }\n",
       "\n",
       "    .dataframe thead th {\n",
       "        text-align: right;\n",
       "    }\n",
       "</style>\n",
       "<table border=\"1\" class=\"dataframe\">\n",
       "  <thead>\n",
       "    <tr style=\"text-align: right;\">\n",
       "      <th></th>\n",
       "      <th>Рост</th>\n",
       "      <th>Вес</th>\n",
       "      <th>Возраст</th>\n",
       "      <th>Образование</th>\n",
       "      <th>Пол</th>\n",
       "    </tr>\n",
       "  </thead>\n",
       "  <tbody>\n",
       "    <tr>\n",
       "      <th>0</th>\n",
       "      <td>165</td>\n",
       "      <td>61</td>\n",
       "      <td>26</td>\n",
       "      <td>1</td>\n",
       "      <td>Ж</td>\n",
       "    </tr>\n",
       "    <tr>\n",
       "      <th>1</th>\n",
       "      <td>185</td>\n",
       "      <td>77</td>\n",
       "      <td>22</td>\n",
       "      <td>1</td>\n",
       "      <td>М</td>\n",
       "    </tr>\n",
       "    <tr>\n",
       "      <th>2</th>\n",
       "      <td>181</td>\n",
       "      <td>75</td>\n",
       "      <td>27</td>\n",
       "      <td>1</td>\n",
       "      <td>М</td>\n",
       "    </tr>\n",
       "    <tr>\n",
       "      <th>3</th>\n",
       "      <td>171</td>\n",
       "      <td>68</td>\n",
       "      <td>35</td>\n",
       "      <td>1</td>\n",
       "      <td>Ж</td>\n",
       "    </tr>\n",
       "    <tr>\n",
       "      <th>4</th>\n",
       "      <td>170</td>\n",
       "      <td>76</td>\n",
       "      <td>24</td>\n",
       "      <td>0</td>\n",
       "      <td>?</td>\n",
       "    </tr>\n",
       "  </tbody>\n",
       "</table>\n",
       "</div>"
      ],
      "text/plain": [
       "   Рост  Вес  Возраст  Образование Пол\n",
       "0   165   61       26            1   Ж\n",
       "1   185   77       22            1   М\n",
       "2   181   75       27            1   М\n",
       "3   171   68       35            1   Ж\n",
       "4   170   76       24            0   ?"
      ]
     },
     "execution_count": 4,
     "metadata": {},
     "output_type": "execute_result"
    }
   ],
   "source": [
    "# \"Шуточная\" задача 1\n",
    "data = [[165, 61, 26, 1, 'Ж'],\n",
    "        [185, 77, 22, 1, 'М'],\n",
    "        [181, 75, 27, 1, 'М'],\n",
    "        [171, 68, 35, 1, 'Ж'],\n",
    "        [170, 76, 24, 0, '?']]\n",
    "df = pd.DataFrame(data,\n",
    "                  columns = ['Рост', 'Вес', 'Возраст', 'Образование', 'Пол'])\n",
    "df"
   ]
  },
  {
   "cell_type": "code",
   "execution_count": 5,
   "id": "ff5eda7c",
   "metadata": {},
   "outputs": [
    {
     "data": {
      "text/html": [
       "<div>\n",
       "<style scoped>\n",
       "    .dataframe tbody tr th:only-of-type {\n",
       "        vertical-align: middle;\n",
       "    }\n",
       "\n",
       "    .dataframe tbody tr th {\n",
       "        vertical-align: top;\n",
       "    }\n",
       "\n",
       "    .dataframe thead th {\n",
       "        text-align: right;\n",
       "    }\n",
       "</style>\n",
       "<table border=\"1\" class=\"dataframe\">\n",
       "  <thead>\n",
       "    <tr style=\"text-align: right;\">\n",
       "      <th></th>\n",
       "      <th>Пол</th>\n",
       "      <th>Сумма</th>\n",
       "    </tr>\n",
       "  </thead>\n",
       "  <tbody>\n",
       "    <tr>\n",
       "      <th>0</th>\n",
       "      <td>Ж</td>\n",
       "      <td>253</td>\n",
       "    </tr>\n",
       "    <tr>\n",
       "      <th>1</th>\n",
       "      <td>М</td>\n",
       "      <td>285</td>\n",
       "    </tr>\n",
       "    <tr>\n",
       "      <th>2</th>\n",
       "      <td>М</td>\n",
       "      <td>284</td>\n",
       "    </tr>\n",
       "    <tr>\n",
       "      <th>3</th>\n",
       "      <td>Ж</td>\n",
       "      <td>275</td>\n",
       "    </tr>\n",
       "    <tr>\n",
       "      <th>4</th>\n",
       "      <td>?</td>\n",
       "      <td>270</td>\n",
       "    </tr>\n",
       "  </tbody>\n",
       "</table>\n",
       "</div>"
      ],
      "text/plain": [
       "  Пол  Сумма\n",
       "0   Ж    253\n",
       "1   М    285\n",
       "2   М    284\n",
       "3   Ж    275\n",
       "4   ?    270"
      ]
     },
     "execution_count": 5,
     "metadata": {},
     "output_type": "execute_result"
    }
   ],
   "source": [
    "data_sum = [[df['Пол'][0], df.values[0][:4].sum()],\n",
    "            [df['Пол'][1], df.values[1][:4].sum()],\n",
    "            [df['Пол'][2], df.values[2][:4].sum()],\n",
    "            [df['Пол'][3], df.values[3][:4].sum()],\n",
    "            [df['Пол'][4], df.values[4][:4].sum()]]\n",
    "df_sum = pd.DataFrame(data_sum, \n",
    "                      columns = ['Пол', 'Сумма'])\n",
    "df_sum"
   ]
  },
  {
   "cell_type": "code",
   "execution_count": 6,
   "id": "ff3385da",
   "metadata": {},
   "outputs": [
    {
     "data": {
      "text/html": [
       "<div>\n",
       "<style scoped>\n",
       "    .dataframe tbody tr th:only-of-type {\n",
       "        vertical-align: middle;\n",
       "    }\n",
       "\n",
       "    .dataframe tbody tr th {\n",
       "        vertical-align: top;\n",
       "    }\n",
       "\n",
       "    .dataframe thead th {\n",
       "        text-align: right;\n",
       "    }\n",
       "</style>\n",
       "<table border=\"1\" class=\"dataframe\">\n",
       "  <thead>\n",
       "    <tr style=\"text-align: right;\">\n",
       "      <th></th>\n",
       "      <th>Пол</th>\n",
       "      <th>Сумма</th>\n",
       "    </tr>\n",
       "  </thead>\n",
       "  <tbody>\n",
       "    <tr>\n",
       "      <th>0</th>\n",
       "      <td>Ж</td>\n",
       "      <td>226</td>\n",
       "    </tr>\n",
       "    <tr>\n",
       "      <th>1</th>\n",
       "      <td>М</td>\n",
       "      <td>262</td>\n",
       "    </tr>\n",
       "    <tr>\n",
       "      <th>2</th>\n",
       "      <td>М</td>\n",
       "      <td>256</td>\n",
       "    </tr>\n",
       "    <tr>\n",
       "      <th>3</th>\n",
       "      <td>Ж</td>\n",
       "      <td>239</td>\n",
       "    </tr>\n",
       "    <tr>\n",
       "      <th>4</th>\n",
       "      <td>?</td>\n",
       "      <td>246</td>\n",
       "    </tr>\n",
       "  </tbody>\n",
       "</table>\n",
       "</div>"
      ],
      "text/plain": [
       "  Пол  Сумма\n",
       "0   Ж    226\n",
       "1   М    262\n",
       "2   М    256\n",
       "3   Ж    239\n",
       "4   ?    246"
      ]
     },
     "execution_count": 6,
     "metadata": {},
     "output_type": "execute_result"
    }
   ],
   "source": [
    "# Зачем суммировать всё?\n",
    "data_sum = [[df['Пол'][0], df.values[0][:2].sum()],\n",
    "            [df['Пол'][1], df.values[1][:2].sum()],\n",
    "            [df['Пол'][2], df.values[2][:2].sum()],\n",
    "            [df['Пол'][3], df.values[3][:2].sum()],\n",
    "            [df['Пол'][4], df.values[4][:2].sum()]]\n",
    "df_sum = pd.DataFrame(data_sum,\n",
    "                      columns = ['Пол', 'Сумма'])\n",
    "df_sum"
   ]
  },
  {
   "cell_type": "code",
   "execution_count": null,
   "id": "c0a90f87",
   "metadata": {},
   "outputs": [],
   "source": [
    "if summ <= 239:\n",
    "    'Ж'"
   ]
  },
  {
   "cell_type": "code",
   "execution_count": 7,
   "id": "f7f2c155",
   "metadata": {},
   "outputs": [
    {
     "data": {
      "text/html": [
       "<div>\n",
       "<style scoped>\n",
       "    .dataframe tbody tr th:only-of-type {\n",
       "        vertical-align: middle;\n",
       "    }\n",
       "\n",
       "    .dataframe tbody tr th {\n",
       "        vertical-align: top;\n",
       "    }\n",
       "\n",
       "    .dataframe thead th {\n",
       "        text-align: right;\n",
       "    }\n",
       "</style>\n",
       "<table border=\"1\" class=\"dataframe\">\n",
       "  <thead>\n",
       "    <tr style=\"text-align: right;\">\n",
       "      <th></th>\n",
       "      <th>Район</th>\n",
       "      <th>Улица/дом</th>\n",
       "      <th>Год</th>\n",
       "      <th>Этаж</th>\n",
       "      <th>M</th>\n",
       "      <th>Площадь кв.м.</th>\n",
       "      <th>Стоимость мл.р.</th>\n",
       "    </tr>\n",
       "  </thead>\n",
       "  <tbody>\n",
       "    <tr>\n",
       "      <th>0</th>\n",
       "      <td>Советский</td>\n",
       "      <td>Российская/22</td>\n",
       "      <td>1984</td>\n",
       "      <td>3</td>\n",
       "      <td>0</td>\n",
       "      <td>57</td>\n",
       "      <td>4.6</td>\n",
       "    </tr>\n",
       "    <tr>\n",
       "      <th>1</th>\n",
       "      <td>Центральный</td>\n",
       "      <td>Кр.Проспект/101</td>\n",
       "      <td>1992</td>\n",
       "      <td>9</td>\n",
       "      <td>1</td>\n",
       "      <td>76</td>\n",
       "      <td>7.2</td>\n",
       "    </tr>\n",
       "    <tr>\n",
       "      <th>2</th>\n",
       "      <td>Советский</td>\n",
       "      <td>Коптюга/15</td>\n",
       "      <td>1992</td>\n",
       "      <td>15</td>\n",
       "      <td>0</td>\n",
       "      <td>142</td>\n",
       "      <td>?</td>\n",
       "    </tr>\n",
       "  </tbody>\n",
       "</table>\n",
       "</div>"
      ],
      "text/plain": [
       "         Район        Улица/дом   Год  Этаж  M  Площадь кв.м. Стоимость мл.р.\n",
       "0    Советский    Российская/22  1984     3  0             57             4.6\n",
       "1  Центральный  Кр.Проспект/101  1992     9  1             76             7.2\n",
       "2    Советский       Коптюга/15  1992    15  0            142               ?"
      ]
     },
     "execution_count": 7,
     "metadata": {},
     "output_type": "execute_result"
    }
   ],
   "source": [
    "# \"Шуточная\" задача 2\n",
    "data = [['Советский', 'Российская/22', 1984, 3, 0, 57, 4.6],\n",
    "        ['Центральный', 'Кр.Проспект/101', 1992, 9, 1, 76, 7.2],\n",
    "        ['Советский', 'Коптюга/15', 1992, 15, 0, 142, '?']]\n",
    "df = pd.DataFrame(data, index = [0, 1, 2],\n",
    "                  columns = ['Район', 'Улица/дом', 'Год', 'Этаж', 'M', 'Площадь кв.м.', 'Стоимость мл.р.'])\n",
    "df"
   ]
  },
  {
   "cell_type": "code",
   "execution_count": 1,
   "id": "4e8e5c8b",
   "metadata": {},
   "outputs": [],
   "source": [
    "# Importing the necessary libraries\n",
    "import numpy as np\n",
    "import matplotlib.pyplot as plt\n",
    "import torchvision\n",
    "import torch\n",
    "plt.rcParams['figure.figsize'] = 15, 10"
   ]
  },
  {
   "cell_type": "markdown",
   "id": "01697ed2",
   "metadata": {
    "tags": []
   },
   "source": [
    "# Что такое нейронная сеть\n",
    "\n",
    "**Нейронная сеть** — это последовательность нейронов, соединенных между собой синапсами. Структура нейронной сети пришла в мир программирования прямиком из биологии. Благодаря такой структуре, машина обретает способность анализировать и даже запоминать различную информацию. Нейронные сети также способны не только анализировать входящую информацию, но и воспроизводить ее из своей памяти.  \n",
    "![Нейрон](http://aboutyourself.ru/assets/sinaps.jpg)\n",
    "**Аксон** — длинный отросток нейрона. Приспособлен для проведения возбуждения и информации от тела нейрона к нейрону или от нейрона к исполнительному органу.  \n",
    "**Дендриты** — короткие и сильно разветвлённые отростки нейрона, служащие главным местом для образования влияющих на нейрон возбуждающих и тормозных синапсов (разные нейроны имеют различное соотношение длины аксона и дендритов), и которые передают возбуждение к телу нейрона. \n"
   ]
  },
  {
   "cell_type": "markdown",
   "id": "e2794964",
   "metadata": {},
   "source": [
    "## Перцептрон\n",
    "\n",
    "<img src=\"images/perceptron.png\" alt=\"Искуственный нейрон\" width=60% height=60% >\n",
    "\n",
    "\n",
    "$A$ - входящий вектор признаков  \n",
    "$W$ - веса модели  \n",
    "$b = w_0$ - сдвиг модели   \n",
    "$y$ - результат модели  \n",
    "$\\sigma$ - функция активации\n",
    "\n",
    "**<center>Смещение</center>**\n",
    "$$\n",
    "A_0 = 1\n",
    "$$\n",
    "$$\n",
    "S = \\sum_{i=0}^nA_iw_i\n",
    "$$"
   ]
  },
  {
   "cell_type": "markdown",
   "id": "7255e06b",
   "metadata": {
    "tags": []
   },
   "source": [
    "# Полносвязная неронная сеть\n",
    "\n",
    "<img src=\"https://upload.wikimedia.org/wikipedia/commons/thumb/3/3d/Neural_network.svg/1200px-Neural_network.svg.png\" alt=\"FCNeuralNetwork\" width=30% height=30%>\n",
    "Схема простой нейросети. Зелёным цветом обозначены входные нейроны, голубым — скрытые нейроны, жёлтым — выходной нейрон\n",
    "\n",
    "$$\n",
    "\\vec {h_t} = W_h \\vec x\n",
    "$$\n",
    "\n",
    "$$\n",
    "\\vec h = F_h(\\vec{h_t})\n",
    "$$\n",
    "\n",
    "$$\n",
    "\\vec {y_t} = W_y \\vec h\n",
    "$$\n",
    "\n",
    "$$\n",
    "\\vec y = F_y(\\vec{y_t})\n",
    "$$"
   ]
  },
  {
   "cell_type": "markdown",
   "id": "1c4f9dc2",
   "metadata": {},
   "source": [
    "\n",
    "<img src=\"https://neurohive.io/wp-content/uploads/2018/10/obuchenie-neironnyh-setei-glubokoe.gif\" alt=\"FCNeuralNetwork\" width=60% height=60%>"
   ]
  },
  {
   "cell_type": "markdown",
   "id": "a970f3e7",
   "metadata": {},
   "source": [
    "**Набор данных MNIST**"
   ]
  },
  {
   "cell_type": "code",
   "execution_count": 2,
   "id": "1a97d7b8",
   "metadata": {},
   "outputs": [
    {
     "data": {
      "image/png": "[encoded data removed]",
      "text/plain": [
       "<Figure size 432x288 with 25 Axes>"
      ]
     },
     "metadata": {
      "needs_background": "light"
     },
     "output_type": "display_data"
    }
   ],
   "source": [
    "# Initializing the transform for the dataset\n",
    "transform = torchvision.transforms.Compose([\n",
    "                    torchvision.transforms.ToTensor(),\n",
    "                    torchvision.transforms.Normalize((0.5), (0.5))\n",
    "                                            ])\n",
    "\n",
    "# Downloading the MNIST dataset\n",
    "train_dataset = torchvision.datasets.MNIST(\n",
    "    root=\"./MNIST/train\", train=True,\n",
    "    transform=torchvision.transforms.ToTensor(),\n",
    "    download=False)\n",
    "\n",
    "test_dataset = torchvision.datasets.MNIST(\n",
    "    root=\"./MNIST/test\", train=False,\n",
    "    transform=torchvision.transforms.ToTensor(),\n",
    "    download=False)\n",
    "\n",
    "\n",
    "# Printing 25 random images from the training dataset\n",
    "random_samples = np.random.randint(1, len(train_dataset), (25))\n",
    "\n",
    "for idx in range(random_samples.shape[0]):\n",
    "    plt.subplot(5, 5, idx + 1)\n",
    "    plt.imshow(train_dataset[idx][0][0].numpy(), cmap='gray')\n",
    "    plt.title(train_dataset[idx][1])\n",
    "    plt.axis('off')\n",
    "\n",
    "\n",
    "plt.tight_layout()\n",
    "plt.show()"
   ]
  },
  {
   "cell_type": "markdown",
   "id": "cec2f0c4",
   "metadata": {},
   "source": [
    "Образцы рукописных цифр из набора данных MNIST, "
   ]
  },
  {
   "cell_type": "code",
   "execution_count": 5,
   "id": "ae79894e",
   "metadata": {
    "tags": []
   },
   "outputs": [],
   "source": [
    "# single sample: fancy visualization\n",
    "\n",
    "def img_pixel_superimpose(img, ax):\n",
    "    \"\"\"Expecting gray-scale image\"\"\"\n",
    "    h, w = img.shape\n",
    "    \n",
    "    color_map = plt.get_cmap('gray_r')\n",
    "    ax.imshow(img, cmap='gray')\n",
    "    for y in range(h):\n",
    "        for x in range(w):\n",
    "            color = color_map(img[y][x])\n",
    "            plt.annotate(text=f\"{img[y][x]}\", xy=(x,y),\n",
    "                         horizontalalignment='center',\n",
    "                         verticalalignment='center',\n",
    "                         color=color)"
   ]
  },
  {
   "cell_type": "code",
   "execution_count": 6,
   "id": "8401ceca",
   "metadata": {},
   "outputs": [],
   "source": [
    "# sample\n",
    "img, label = train_dataset[0]\n",
    "img[0] = img[0]*255/img[0].max()"
   ]
  },
  {
   "cell_type": "code",
   "execution_count": 7,
   "id": "42daf8ac",
   "metadata": {},
   "outputs": [
    {
     "data": {
      "image/png": "[encoded data removed]",
      "text/plain": [
       "<Figure size 1080x1080 with 1 Axes>"
      ]
     },
     "metadata": {
      "needs_background": "light"
     },
     "output_type": "display_data"
    }
   ],
   "source": [
    "img_arr = img[0].numpy()\n",
    "img_arr = img_arr.astype(np.uint8)\n",
    "# print(img_arr.shape)\n",
    "\n",
    "fig = plt.figure(figsize=(15, 15)) \n",
    "ax = fig.add_subplot(1, 1, 1)\n",
    "\n",
    "img_pixel_superimpose(img_arr, ax)"
   ]
  },
  {
   "cell_type": "code",
   "execution_count": 1,
   "id": "579aadfa",
   "metadata": {},
   "outputs": [
    {
     "data": {
      "text/html": [
       "<video src=\"video/MNIST.mp4\" controls  >\n",
       "      Your browser does not support the <code>video</code> element.\n",
       "    </video>"
      ],
      "text/plain": [
       "<IPython.core.display.Video object>"
      ]
     },
     "execution_count": 1,
     "metadata": {},
     "output_type": "execute_result"
    }
   ],
   "source": [
    "from IPython.display import Video\n",
    "\n",
    "Video(\"video/MNIST.mp4\")"
   ]
  },
  {
   "cell_type": "markdown",
   "id": "be366361",
   "metadata": {},
   "source": [
    "**Превратим данные в вектора**"
   ]
  },
  {
   "cell_type": "code",
   "execution_count": 8,
   "id": "01e289ba",
   "metadata": {},
   "outputs": [],
   "source": [
    "def encode_label(j):\n",
    "    # 5 -> [[0], [0], [0], [0], [0], [1], [0], [0], [0], [0]]\n",
    "    e = np.zeros((10,1))\n",
    "    e[j] = 1.0\n",
    "    return e\n",
    "\n",
    "def shape_data(data):\n",
    "    features = [np.reshape(x[0][0].numpy(), (784,1)) for x in data]\n",
    "    #print('features\\n', len(features[0]))\n",
    "    labels = [encode_label(y[1]) for y in data]\n",
    "    #print('labels\\n', len(labels[0]))\n",
    "    return zip(features, labels)"
   ]
  },
  {
   "cell_type": "code",
   "execution_count": 9,
   "id": "f398a8ac",
   "metadata": {
    "tags": []
   },
   "outputs": [],
   "source": [
    "test1 = [train_dataset[0]]\n",
    "reshape = shape_data(test1)\n",
    "\n",
    "img_data = list(reshape)[0][0]\n",
    "img_data = [str(int(pxl)) for pxl in img_data]"
   ]
  },
  {
   "cell_type": "code",
   "execution_count": 10,
   "id": "2c6f0d10",
   "metadata": {},
   "outputs": [
    {
     "data": {
      "text/plain": [
       "'0, 0, 0, 0, 0, 0, 0, 0, 0, 0, 0, 0, 0, 0, 0, 0, 0, 0, 0, 0, 0, 0, 0, 0, 0, 0, 0, 0, 0, 0, 0, 0, 0, 0, 0...'"
      ]
     },
     "execution_count": 10,
     "metadata": {},
     "output_type": "execute_result"
    }
   ],
   "source": [
    "', '.join(img_data[:35]) + '...'"
   ]
  },
  {
   "cell_type": "markdown",
   "id": "96ef7b6a",
   "metadata": {},
   "source": [
    "_____________________________________________________________________"
   ]
  },
  {
   "cell_type": "code",
   "execution_count": 167,
   "id": "e932a20c",
   "metadata": {},
   "outputs": [],
   "source": [
    "train = shape_data(train_dataset)\n",
    "test = shape_data(test_dataset)"
   ]
  },
  {
   "cell_type": "code",
   "execution_count": 168,
   "id": "8627f222",
   "metadata": {},
   "outputs": [
    {
     "name": "stdout",
     "output_type": "stream",
     "text": [
      "train 60000\n",
      "test 10000\n"
     ]
    }
   ],
   "source": [
    "train = list(train)\n",
    "test = list(test)\n",
    "print('train', len(train))\n",
    "print('test', len(test))"
   ]
  },
  {
   "cell_type": "code",
   "execution_count": null,
   "id": "33ce52bb",
   "metadata": {},
   "outputs": [],
   "source": [
    "# Итого:\n",
    "#   Изображения превращены в векторы размера 784, лэйблы - 10\n",
    "#   Осталось подобрать такой ветор весов W, чтобы умножение цифры 8 с ним\n",
    "#   давало большое значение"
   ]
  },
  {
   "cell_type": "markdown",
   "id": "a97a1bd3",
   "metadata": {},
   "source": [
    "<img src=\"images/vec_multiplication.jpg\" alt=\"vector scalar multiplication\" width=40% height=40% >\n",
    "\n",
    "Где V - это вектор каринки, W - веса нейросети\n"
   ]
  },
  {
   "cell_type": "code",
   "execution_count": null,
   "id": "4a5292b0",
   "metadata": {},
   "outputs": [],
   "source": []
  },
  {
   "cell_type": "markdown",
   "id": "97e7f31d",
   "metadata": {},
   "source": [
    "**Веса перцептрона**"
   ]
  },
  {
   "cell_type": "code",
   "execution_count": 1,
   "id": "761705df",
   "metadata": {},
   "outputs": [],
   "source": [
    "# Что нужно для распознавания 8ки?\n",
    "# 1) Параллельные вектора. \n",
    "# Чтобы умножение давало максимальное значение\n",
    "# 2) Получить образ числа\n",
    "# среднее представление 8ки (также как человек имеет среднее представление у себя в голове)"
   ]
  },
  {
   "cell_type": "code",
   "execution_count": 173,
   "id": "45ee1e88",
   "metadata": {},
   "outputs": [],
   "source": [
    "def average_digit(data, digit):\n",
    "    filtered_data = [x[0] for x in data if np.argmax(x[1]) == digit]\n",
    "    filtered_array = np.asarray(filtered_data)\n",
    "    return np.average(filtered_array, axis=0)"
   ]
  },
  {
   "cell_type": "code",
   "execution_count": 174,
   "id": "41a49a5b",
   "metadata": {},
   "outputs": [],
   "source": [
    "avg_eight = average_digit(train, 8)"
   ]
  },
  {
   "cell_type": "code",
   "execution_count": 175,
   "id": "fd5ea022",
   "metadata": {},
   "outputs": [
    {
     "data": {
      "image/png": "[encoded data removed]",
      "text/plain": [
       "<Figure size 1080x720 with 1 Axes>"
      ]
     },
     "metadata": {
      "needs_background": "light"
     },
     "output_type": "display_data"
    }
   ],
   "source": [
    "img = (np.reshape(avg_eight, (28, 28)))\n",
    "plt.imshow(img)\n",
    "plt.show()"
   ]
  },
  {
   "cell_type": "markdown",
   "id": "9e6cd00f",
   "metadata": {},
   "source": [
    "Это  среднее  представление  цифры  8,  avg_eight,  в  обучающем  наборе  MNIST \n",
    "содержит большое количество информации о том, какими общими свойствами \n",
    "должны  обладать  изображения  восьмерки.  Мы  используем  avg_eight  в  качестве \n",
    "параметров простой модели, чтобы определить, является ли данный входной вектор x, представляющий цифру, изображением восьмерки. Когда речь идет о нейронных сетях, под параметрами, как правило, подразумеваются веса, и в данном \n",
    "случае avg_eight будет выступать именно в качестве веса."
   ]
  },
  {
   "cell_type": "code",
   "execution_count": 176,
   "id": "f098fc7d",
   "metadata": {},
   "outputs": [],
   "source": [
    "# train[indx][img/label]\n",
    "x_2 = train[2][0] # 4-ка\n",
    "x_17 = train[17][0] # 8-ка\n",
    "W = np.transpose(avg_eight)"
   ]
  },
  {
   "cell_type": "code",
   "execution_count": 197,
   "id": "77b943f4",
   "metadata": {},
   "outputs": [
    {
     "data": {
      "text/plain": [
       "array([[0.],\n",
       "       [0.],\n",
       "       [0.],\n",
       "       [0.],\n",
       "       [0.],\n",
       "       [0.],\n",
       "       [0.],\n",
       "       [0.],\n",
       "       [1.],\n",
       "       [0.]])"
      ]
     },
     "execution_count": 197,
     "metadata": {},
     "output_type": "execute_result"
    }
   ],
   "source": [
    "train[17][1]"
   ]
  },
  {
   "cell_type": "code",
   "execution_count": 200,
   "id": "a4759a3e",
   "metadata": {},
   "outputs": [
    {
     "data": {
      "image/png": "[encoded data removed]",
      "text/plain": [
       "<Figure size 1080x720 with 2 Axes>"
      ]
     },
     "metadata": {
      "needs_background": "light"
     },
     "output_type": "display_data"
    }
   ],
   "source": [
    "img_2 = (np.reshape(x_2, (28, 28)))\n",
    "img_17 = (np.reshape(x_17, (28, 28)))\n",
    "\n",
    "plt.subplot(1, 2, 1)\n",
    "plt.imshow(img_2)\n",
    "plt.subplot(1, 2, 2)\n",
    "plt.imshow(img_17)\n",
    "plt.show()"
   ]
  },
  {
   "cell_type": "markdown",
   "id": "1baa85af",
   "metadata": {},
   "source": [
    "Вычислим скалярное произведение W и x, т. е. попарно перемножим \n",
    "значения W и x и суммируем все 784 результирующих значения. Если наша гипотеза верна и x соответствует 8, то более темные пикселы должны располагаться примерно в тех же местах, что и в случае W, и наоборот. Если же х не соответствует 8, то \n",
    "совпадений должно быть меньше. Давайте проверим эту гипотезу на нескольких \n",
    "примерах."
   ]
  },
  {
   "cell_type": "code",
   "execution_count": 205,
   "id": "8a2f8a34",
   "metadata": {},
   "outputs": [
    {
     "data": {
      "text/plain": [
       "20.095028"
      ]
     },
     "execution_count": 205,
     "metadata": {},
     "output_type": "execute_result"
    }
   ],
   "source": [
    "res_4by8 = np.dot(W, x_2)[0][0]\n",
    "res_4by8"
   ]
  },
  {
   "cell_type": "code",
   "execution_count": 206,
   "id": "985ed188",
   "metadata": {},
   "outputs": [
    {
     "data": {
      "text/plain": [
       "54.5326"
      ]
     },
     "execution_count": 206,
     "metadata": {},
     "output_type": "execute_result"
    }
   ],
   "source": [
    "res_8by8 = np.dot(W, x_17)[0][0]\n",
    "res_8by8"
   ]
  },
  {
   "cell_type": "markdown",
   "id": "37338d34",
   "metadata": {},
   "source": [
    "**Sigmoid**"
   ]
  },
  {
   "cell_type": "markdown",
   "id": "9c7547d1",
   "metadata": {},
   "source": [
    "$$\n",
    "F(x) = {1 \\over 1 + e^{-x}}\n",
    "$$"
   ]
  },
  {
   "cell_type": "markdown",
   "id": "0417a5f1",
   "metadata": {},
   "source": [
    "<img src=\"images/Sigmoid.png\" alt=\"Sigmoid\" height=70% width=70%>"
   ]
  },
  {
   "cell_type": "code",
   "execution_count": 186,
   "id": "a67dad25",
   "metadata": {},
   "outputs": [],
   "source": [
    "def sigmoid(x):\n",
    "    return 1.0/(1.0 + np.exp(-x))"
   ]
  },
  {
   "cell_type": "code",
   "execution_count": 208,
   "id": "4a31a142",
   "metadata": {},
   "outputs": [
    {
     "data": {
      "text/plain": [
       "0.9999999981256951"
      ]
     },
     "execution_count": 208,
     "metadata": {},
     "output_type": "execute_result"
    }
   ],
   "source": [
    "sigmoid(res_4by8)"
   ]
  },
  {
   "cell_type": "code",
   "execution_count": 210,
   "id": "08cf1eff",
   "metadata": {},
   "outputs": [
    {
     "data": {
      "text/plain": [
       "1.0"
      ]
     },
     "execution_count": 210,
     "metadata": {},
     "output_type": "execute_result"
    }
   ],
   "source": [
    "sigmoid(res_8by8)"
   ]
  },
  {
   "cell_type": "markdown",
   "id": "21505ce9",
   "metadata": {},
   "source": [
    "Добавим \"смещение\""
   ]
  },
  {
   "cell_type": "code",
   "execution_count": 188,
   "id": "6605316e",
   "metadata": {},
   "outputs": [],
   "source": [
    "b = -45"
   ]
  },
  {
   "cell_type": "code",
   "execution_count": 187,
   "id": "726aad22",
   "metadata": {},
   "outputs": [],
   "source": [
    "def predict(x, W, b):\n",
    "    return sigmoid(np.dot(W,x) + b)"
   ]
  },
  {
   "cell_type": "code",
   "execution_count": 211,
   "id": "5b8b3038",
   "metadata": {},
   "outputs": [
    {
     "data": {
      "text/plain": [
       "1.5272427e-11"
      ]
     },
     "execution_count": 211,
     "metadata": {},
     "output_type": "execute_result"
    }
   ],
   "source": [
    "predict(x_2, W, b)[0][0]"
   ]
  },
  {
   "cell_type": "code",
   "execution_count": 212,
   "id": "b2a07c68",
   "metadata": {},
   "outputs": [
    {
     "data": {
      "text/plain": [
       "0.9999275"
      ]
     },
     "execution_count": 212,
     "metadata": {},
     "output_type": "execute_result"
    }
   ],
   "source": [
    "predict(x_17, W, b)[0][0]"
   ]
  },
  {
   "cell_type": "code",
   "execution_count": null,
   "id": "912da5b4",
   "metadata": {},
   "outputs": [],
   "source": []
  },
  {
   "cell_type": "markdown",
   "id": "fcd8f3be",
   "metadata": {},
   "source": [
    "<img src=\"images/Regression.png\" alt=\"Regression\" height=70% width=70%>"
   ]
  },
  {
   "cell_type": "code",
   "execution_count": null,
   "id": "1e9ca9a7",
   "metadata": {},
   "outputs": [],
   "source": []
  },
  {
   "cell_type": "markdown",
   "id": "80969238",
   "metadata": {},
   "source": [
    "Верность предсказаний нашей простой модели составляет **78 %** (0,7814) - на обучающих данных и\n",
    "**77 %** (0,7749) на тестовых"
   ]
  },
  {
   "cell_type": "markdown",
   "id": "60bf260f",
   "metadata": {},
   "source": [
    "**FC**"
   ]
  },
  {
   "cell_type": "markdown",
   "id": "2f914ae2",
   "metadata": {},
   "source": [
    "<img src=\"images/mnist_fc.png\" alt=\"Regression\" height=70% width=70%>"
   ]
  },
  {
   "cell_type": "code",
   "execution_count": 2,
   "id": "48cca4cb",
   "metadata": {},
   "outputs": [
    {
     "data": {
      "text/html": [
       "<video src=\"video/FC.mp4\" controls  >\n",
       "      Your browser does not support the <code>video</code> element.\n",
       "    </video>"
      ],
      "text/plain": [
       "<IPython.core.display.Video object>"
      ]
     },
     "execution_count": 2,
     "metadata": {},
     "output_type": "execute_result"
    }
   ],
   "source": [
    "Video(\"video/FC.mp4\")"
   ]
  },
  {
   "cell_type": "code",
   "execution_count": null,
   "id": "28de394c",
   "metadata": {},
   "outputs": [],
   "source": []
  },
  {
   "cell_type": "markdown",
   "id": "ef2d4c13",
   "metadata": {},
   "source": [
    "Минусы\n",
    "- Большое количество параметров\n",
    "- Отсутствие трансляционной инвариантности"
   ]
  },
  {
   "cell_type": "code",
   "execution_count": null,
   "id": "3152f217",
   "metadata": {},
   "outputs": [],
   "source": []
  }
 ],
 "metadata": {
  "kernelspec": {
   "display_name": "Python 3 (ipykernel)",
   "language": "python",
   "name": "python3"
  },
  "language_info": {
   "codemirror_mode": {
    "name": "ipython",
    "version": 3
   },
   "file_extension": ".py",
   "mimetype": "text/x-python",
   "name": "python",
   "nbconvert_exporter": "python",
   "pygments_lexer": "ipython3",
   "version": "3.10.13"
  }
 },
 "nbformat": 4,
 "nbformat_minor": 5
}
