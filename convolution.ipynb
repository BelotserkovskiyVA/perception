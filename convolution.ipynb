{
 "cells": [
  {
   "cell_type": "markdown",
   "id": "5b87fa31",
   "metadata": {},
   "source": [
    "# Обработка изображений - свёрточные нейросети"
   ]
  },
  {
   "cell_type": "markdown",
   "id": "f48940b2",
   "metadata": {},
   "source": [
    "## Полносвязная сеть\n",
    "<img src=\"images/mnist_fc.png\" width=60% height=60%>\n",
    "Количество весов входного слоя = высота * ширина * каналы * количество нейронов скрытого слоя"
   ]
  },
  {
   "cell_type": "markdown",
   "id": "370e80da",
   "metadata": {},
   "source": [
    "## Хьюбел \"Глаз, мозг, зрение\"\n",
    "```\n",
    "https://djvu.online/file/4xcWNws1Sw3DO\n",
    "David H. Hubel\n",
    "The Nobel Prize in Physiology or Medicine 1981\n",
    "```"
   ]
  },
  {
   "cell_type": "markdown",
   "id": "05b1465a",
   "metadata": {},
   "source": [
    "**Рецептивное поле клетки:**\n",
    "<img src=\"images/on_off_centers.png\" width=80% height=80%>\n",
    "<img src=\"images/ganglion cell responses.png\" width=80% height=80%>"
   ]
  },
  {
   "cell_type": "markdown",
   "id": "e74a8287",
   "metadata": {},
   "source": [
    "**Чувствительность к ориентации:**\n",
    "<img src=\"images/orientation sensitivity.png\" width=80% height=80%>"
   ]
  },
  {
   "cell_type": "markdown",
   "id": "d9492d2f",
   "metadata": {},
   "source": [
    "**Объединение рецептивных полей клеток:**\n",
    "<img src=\"images/cell connection.png\" width=80% height=80%>"
   ]
  },
  {
   "cell_type": "markdown",
   "id": "09b82d35",
   "metadata": {},
   "source": []
  },
  {
   "cell_type": "markdown",
   "id": "33c72f05",
   "metadata": {},
   "source": [
    "## Свёртка"
   ]
  },
  {
   "cell_type": "markdown",
   "id": "8c850b9e",
   "metadata": {},
   "source": [
    "<img src=\"images/convolution.jpeg\" width=60% height=60%>"
   ]
  },
  {
   "cell_type": "markdown",
   "id": "7c2484ce",
   "metadata": {},
   "source": [
    "$$\n",
    "C_{i,j} = \\sum_{u=0}^{m_x-1} \\sum_{v=0}^{m_y-1} A_{i+u, j+v} B_{u,v} \n",
    "$$"
   ]
  },
  {
   "cell_type": "markdown",
   "id": "5c42a535",
   "metadata": {},
   "source": [
    "```python\n",
    "# conv implementation\n",
    "```"
   ]
  },
  {
   "cell_type": "code",
   "execution_count": 2,
   "id": "4113b49b",
   "metadata": {},
   "outputs": [],
   "source": [
    "import cv2\n",
    "import numpy as np\n",
    "import matplotlib.pyplot as plt\n",
    "%matplotlib inline"
   ]
  },
  {
   "cell_type": "code",
   "execution_count": null,
   "id": "e173c6ef",
   "metadata": {},
   "outputs": [],
   "source": [
    "# Прочитаем изображение в режиме Grayscale\n",
    "img_gray = cv2.imread('data/test.jpg', 0)\n",
    "print(img_gray.shape)\n",
    "plt.imshow(img_gray, cmap='gray')\n",
    "plt.show()"
   ]
  },
  {
   "cell_type": "code",
   "execution_count": null,
   "id": "293a95cf",
   "metadata": {},
   "outputs": [],
   "source": [
    "# фильтр Собеля вертикальный\n",
    "kernel = np.array([\n",
    "    [-1, -1, -1],\n",
    "    [ 0,  0,  0],\n",
    "    [ 1,  1,  1],\n",
    "])\n",
    "img_out = cv2.filter2D(img_gray, -1, kernel)\n",
    "plt.imshow(img_out, cmap='gray')\n",
    "plt.show()"
   ]
  }
 ],
 "metadata": {
  "kernelspec": {
   "display_name": "Python 3",
   "language": "python",
   "name": "python3"
  },
  "language_info": {
   "codemirror_mode": {
    "name": "ipython",
    "version": 3
   },
   "file_extension": ".py",
   "mimetype": "text/x-python",
   "name": "python",
   "nbconvert_exporter": "python",
   "pygments_lexer": "ipython3",
   "version": "3.7.10"
  }
 },
 "nbformat": 4,
 "nbformat_minor": 5
}
