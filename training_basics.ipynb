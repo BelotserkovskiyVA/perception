{
 "cells": [
  {
   "cell_type": "markdown",
   "id": "4e0be132-cf48-40d2-a3bc-59af1f8b9a4a",
   "metadata": {},
   "source": [
    "### Содержание\n",
    "```\n",
    "1 Прямой проход и обратное распространение\n",
    "2 Разбиение набора данных\n",
    "3 Нормализация данных\n",
    "4 Валидация и переобучение\n",
    "5 Схождение\n",
    "6 Контрольные точки и ранняя остановка\n",
    "7 Гиперпараметры\n",
    "8 Инвариантность\n",
    "9 Сырые наборы данных\n",
    "10 Сохранение/Восстановление модели\n",
    "```"
   ]
  },
  {
   "cell_type": "markdown",
   "id": "72a69b05-d7fc-48fd-b685-635f8a6edcb7",
   "metadata": {},
   "source": [
    "**Прямой проход и обратное распространение**"
   ]
  },
  {
   "cell_type": "markdown",
   "id": "7af0c34b-0c31-4b95-a35e-8deb6e48a448",
   "metadata": {},
   "source": [
    "<img src=\"images/forward_pass.png\" alt=\"forward\" height=60% width=60%>"
   ]
  },
  {
   "cell_type": "markdown",
   "id": "52bbf1ad-bbd5-4f3b-8f8c-414ffdbddff7",
   "metadata": {},
   "source": [
    "```\n",
    "    Данные подаются в нейронную сеть пакетами (batch-ами). Пакет может состоять из одного или нескольких выбранных наугад примеров из тренировочных данных.\n",
    "    Тренировочные данные подаются в модель несколько раз. Всякий раз, когда мы подаем все тренировочные данные целиком, это\n",
    "называется эпохой. Каждая эпоха представляет собой отличающуюся случайную перестановку примеров в пакетах – то есть не существует двух эпох с одинаковым порядком следования примеров.\n",
    "```"
   ]
  },
  {
   "cell_type": "code",
   "execution_count": null,
   "id": "dfb68330-0780-453c-a9bc-db354b3458d5",
   "metadata": {},
   "outputs": [],
   "source": []
  }
 ],
 "metadata": {
  "kernelspec": {
   "display_name": "Python 3",
   "language": "python",
   "name": "python3"
  },
  "language_info": {
   "codemirror_mode": {
    "name": "ipython",
    "version": 3
   },
   "file_extension": ".py",
   "mimetype": "text/x-python",
   "name": "python",
   "nbconvert_exporter": "python",
   "pygments_lexer": "ipython3",
   "version": "3.7.10"
  }
 },
 "nbformat": 4,
 "nbformat_minor": 5
}
