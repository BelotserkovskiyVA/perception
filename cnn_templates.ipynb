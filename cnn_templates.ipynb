{
 "cells": [
  {
   "cell_type": "code",
   "execution_count": 2,
   "id": "bf2a7be7-b1eb-4ce7-860b-1b5bc5069439",
   "metadata": {},
   "outputs": [],
   "source": [
    "import torch\n",
    "import torch.nn as nn"
   ]
  },
  {
   "cell_type": "markdown",
   "id": "58c3cf42-a31c-4357-84f2-fc853b98b90e",
   "metadata": {},
   "source": [
    "# ConvNet:"
   ]
  },
  {
   "cell_type": "markdown",
   "id": "30ba4546-a7f2-4ae1-bed4-8619a0380a83",
   "metadata": {},
   "source": [
    "<img src=\"images/ConvNet.png\" alt=\"Simple Convolutional Neural Network\" width=80% height=80% >"
   ]
  },
  {
   "cell_type": "code",
   "execution_count": 3,
   "id": "aff1a29c-7b6f-4d1f-88b8-017d60ffbfcf",
   "metadata": {},
   "outputs": [],
   "source": [
    "img_size = 128\n",
    "x_input = torch.randn((3, img_size, img_size))"
   ]
  },
  {
   "cell_type": "code",
   "execution_count": null,
   "id": "f3d7297d-365e-4294-b0cc-90f223c1bb78",
   "metadata": {},
   "outputs": [],
   "source": []
  },
  {
   "cell_type": "markdown",
   "id": "f5870bad-389e-4ea2-8eee-0cbe41cb227e",
   "metadata": {},
   "source": [
    "**nn.Module :**"
   ]
  },
  {
   "cell_type": "code",
   "execution_count": 12,
   "id": "6816c217-293e-4d6f-b191-7774abd1a92c",
   "metadata": {},
   "outputs": [],
   "source": [
    "class ConvNet(nn.Module):\n",
    "    def __init__(self):\n",
    "        \"\"\"Регистрация блоков\"\"\"\n",
    "        super().__init__()\n",
    "        self.conv2d = nn.Conv2d(in_channels=3, out_channels=16, kernel_size=3, stride=2, padding=1)\n",
    "        self.maxpool = nn.MaxPool2d(kernel_size=2, stride=2)\n",
    "        self.flatten = nn.Flatten(0)\n",
    "        self.fci = nn.Linear(16384, 512)\n",
    "        self.fc2 = nn.Linear(512, 26, bias=False)\n",
    "        self.relu = nn.ReLU()\n",
    "        self.softmax = nn.Softmax()\n",
    "        \n",
    "    def forward(self, x):\n",
    "        \"\"\"Прямой проход\"\"\"\n",
    "        x = self.conv2d(x)\n",
    "        x = self.relu(x)\n",
    "        x = self.maxpool(x)\n",
    "        x = self.flatten(x)\n",
    "        x = self.fc1(x)\n",
    "        x = self.relu(x)\n",
    "        x = self.fc2(x)\n",
    "        return self.softmax(x)\n",
    "\n",
    "model = ConvNet()"
   ]
  },
  {
   "cell_type": "code",
   "execution_count": 14,
   "id": "435f3982-1108-4f11-b5e1-4a701d605447",
   "metadata": {},
   "outputs": [
    {
     "data": {
      "text/plain": [
       "ConvNet(\n",
       "  (conv2d): Conv2d(3, 16, kernel_size=(3, 3), stride=(2, 2), padding=(1, 1))\n",
       "  (maxpool): MaxPool2d(kernel_size=2, stride=2, padding=0, dilation=1, ceil_mode=False)\n",
       "  (flatten): Flatten(start_dim=0, end_dim=-1)\n",
       "  (fci): Linear(in_features=16384, out_features=512, bias=True)\n",
       "  (fc2): Linear(in_features=512, out_features=26, bias=False)\n",
       "  (relu): ReLU()\n",
       "  (softmax): Softmax(dim=None)\n",
       ")"
      ]
     },
     "execution_count": 14,
     "metadata": {},
     "output_type": "execute_result"
    }
   ],
   "source": [
    "model"
   ]
  },
  {
   "cell_type": "code",
   "execution_count": 7,
   "id": "9ba3b885-c55d-457e-a9ad-769ab1c1b41e",
   "metadata": {},
   "outputs": [],
   "source": [
    "#model(x_input)"
   ]
  },
  {
   "cell_type": "markdown",
   "id": "f855ad7d-eb1e-415a-9cb3-3ab220182d00",
   "metadata": {},
   "source": [
    "**nn.Sequential:**"
   ]
  },
  {
   "cell_type": "code",
   "execution_count": 15,
   "id": "a3d08c70-db1a-4bfe-9ffc-962b3d77f577",
   "metadata": {},
   "outputs": [],
   "source": [
    "model = nn.Sequential(\n",
    "    nn.Conv2d(3, 16, kernel_size=3, stride=2, padding=1),\n",
    "    nn.ReLU(),\n",
    "    nn.MaxPool2d(2, 2),\n",
    "    nn.Flatten(0),\n",
    "    nn.Linear(16384, 512),\n",
    "    nn.ReLU(),\n",
    "    nn.Linear(512, 26, bias=False),\n",
    "    nn.Softmax()\n",
    ")"
   ]
  },
  {
   "cell_type": "code",
   "execution_count": 16,
   "id": "21a9c680-f483-4c8c-88dd-a1f1ff2be21a",
   "metadata": {},
   "outputs": [
    {
     "data": {
      "text/plain": [
       "Sequential(\n",
       "  (0): Conv2d(3, 16, kernel_size=(3, 3), stride=(2, 2), padding=(1, 1))\n",
       "  (1): ReLU()\n",
       "  (2): MaxPool2d(kernel_size=2, stride=2, padding=0, dilation=1, ceil_mode=False)\n",
       "  (3): Flatten(start_dim=0, end_dim=-1)\n",
       "  (4): Linear(in_features=16384, out_features=512, bias=True)\n",
       "  (5): ReLU()\n",
       "  (6): Linear(in_features=512, out_features=26, bias=False)\n",
       "  (7): Softmax(dim=None)\n",
       ")"
      ]
     },
     "execution_count": 16,
     "metadata": {},
     "output_type": "execute_result"
    }
   ],
   "source": [
    "model"
   ]
  },
  {
   "cell_type": "code",
   "execution_count": null,
   "id": "4cdcd724-066d-459e-a668-5e752300df1d",
   "metadata": {},
   "outputs": [],
   "source": []
  },
  {
   "cell_type": "markdown",
   "id": "1f30d373-0079-41bf-ba10-db7937590ef4",
   "metadata": {},
   "source": [
    "``` python\n",
    "loss= 'categorical_crossentropy'\n",
    "optimizer= 'Adam'\n",
    "metrics= 'accuracy'\n",
    "```"
   ]
  },
  {
   "cell_type": "code",
   "execution_count": null,
   "id": "7f29d7e4-0096-45ff-a9f4-beced3167012",
   "metadata": {},
   "outputs": [],
   "source": [
    "# class SimpleModel(nn.Module):\n",
    "#     def __init__(self, in_ch, out_ch):\n",
    "#         \"\"\"Регистрация блоков\"\"\"\n",
    "#         super().__init__()\n",
    "#         self.conv2d = nn.Conv2d(in_channels,\n",
    "#                                 out_channels,\n",
    "#                                 kernel_size=3,\n",
    "#                                 stride=stride,\n",
    "#                                 padding=1)\n",
    "#         self.maxpool = nn.MaxPool2d(2)\n",
    "#         self.flatten = nn.Flatten(0)\n",
    "#         self.bn = nn.BatchNorm2d(out_channels)\n",
    "#         self.fci = nn.Linear(in_ch, 32)  # Полносвязный слой 1\n",
    "#         self.fc2 = nn.Linear(32, out_ch, bias=False)  # Полносвязный слой 2\n",
    "#         self.relu = nn.ReLU()  # Функция активации\n",
    "#         self.leaky = nn.LeakyReLU(0.2)\n",
    "#         self.sigmoid = nn.Sigmoid()\n",
    "        \n",
    "#     def forward(self, x):\n",
    "#         #print('Linear', x.shape)\n",
    "#         x = self.flatten(x)\n",
    "#         x = self.fc(x)\n",
    "#         #print('flatten shape', x.shape)\n",
    "#         return self.sigmoid(x)\n",
    "    \n",
    "#     def forward(self, x):\n",
    "#         \"\"\"Прямой проход\"\"\"\n",
    "#         h = self.fc1(x)\n",
    "#         h = self.relu(h)\n",
    "#         h = self.fc2(h)\n",
    "#         y = self.relu(h)\n",
    "#         return y"
   ]
  }
 ],
 "metadata": {
  "kernelspec": {
   "display_name": "Python 3",
   "language": "python",
   "name": "python3"
  },
  "language_info": {
   "codemirror_mode": {
    "name": "ipython",
    "version": 3
   },
   "file_extension": ".py",
   "mimetype": "text/x-python",
   "name": "python",
   "nbconvert_exporter": "python",
   "pygments_lexer": "ipython3",
   "version": "3.7.10"
  }
 },
 "nbformat": 4,
 "nbformat_minor": 5
}
