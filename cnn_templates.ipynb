{
 "cells": [
  {
   "cell_type": "code",
   "execution_count": 2,
   "id": "bf2a7be7-b1eb-4ce7-860b-1b5bc5069439",
   "metadata": {},
   "outputs": [],
   "source": [
    "import torch\n",
    "import torch.nn as nn"
   ]
  },
  {
   "cell_type": "markdown",
   "id": "58c3cf42-a31c-4357-84f2-fc853b98b90e",
   "metadata": {},
   "source": [
    "# ConvNet:"
   ]
  },
  {
   "cell_type": "markdown",
   "id": "30ba4546-a7f2-4ae1-bed4-8619a0380a83",
   "metadata": {},
   "source": [
    "<img src=\"images/ConvNet.png\" alt=\"Simple Convolutional Neural Network\" width=80% height=80% >"
   ]
  },
  {
   "cell_type": "markdown",
   "id": "d88663db",
   "metadata": {},
   "source": [
    "**Input:**"
   ]
  },
  {
   "cell_type": "code",
   "execution_count": 3,
   "id": "aff1a29c-7b6f-4d1f-88b8-017d60ffbfcf",
   "metadata": {},
   "outputs": [],
   "source": [
    "img_size = 128\n",
    "x_input = torch.randn((3, img_size, img_size))"
   ]
  },
  {
   "cell_type": "markdown",
   "id": "f855ad7d-eb1e-415a-9cb3-3ab220182d00",
   "metadata": {},
   "source": [
    "**nn.Sequential:**"
   ]
  },
  {
   "cell_type": "code",
   "execution_count": 15,
   "id": "a3d08c70-db1a-4bfe-9ffc-962b3d77f577",
   "metadata": {},
   "outputs": [],
   "source": [
    "model = nn.Sequential(\n",
    "    nn.Conv2d(3, 16, kernel_size=3, stride=2, padding=1),\n",
    "    nn.ReLU(),\n",
    "    nn.MaxPool2d(2, 2),\n",
    "    nn.Flatten(0),\n",
    "    nn.Linear(16384, 512),\n",
    "    nn.ReLU(),\n",
    "    nn.Linear(512, 26, bias=False),\n",
    "    nn.Softmax()\n",
    ")"
   ]
  },
  {
   "cell_type": "code",
   "execution_count": 16,
   "id": "21a9c680-f483-4c8c-88dd-a1f1ff2be21a",
   "metadata": {},
   "outputs": [
    {
     "data": {
      "text/plain": [
       "Sequential(\n",
       "  (0): Conv2d(3, 16, kernel_size=(3, 3), stride=(2, 2), padding=(1, 1))\n",
       "  (1): ReLU()\n",
       "  (2): MaxPool2d(kernel_size=2, stride=2, padding=0, dilation=1, ceil_mode=False)\n",
       "  (3): Flatten(start_dim=0, end_dim=-1)\n",
       "  (4): Linear(in_features=16384, out_features=512, bias=True)\n",
       "  (5): ReLU()\n",
       "  (6): Linear(in_features=512, out_features=26, bias=False)\n",
       "  (7): Softmax(dim=None)\n",
       ")"
      ]
     },
     "execution_count": 16,
     "metadata": {},
     "output_type": "execute_result"
    }
   ],
   "source": [
    "model"
   ]
  },
  {
   "cell_type": "markdown",
   "id": "f5870bad-389e-4ea2-8eee-0cbe41cb227e",
   "metadata": {},
   "source": [
    "**nn.Module :**"
   ]
  },
  {
   "cell_type": "code",
   "execution_count": 12,
   "id": "6816c217-293e-4d6f-b191-7774abd1a92c",
   "metadata": {},
   "outputs": [],
   "source": [
    "class ConvNet(nn.Module):\n",
    "    def __init__(self):\n",
    "        \"\"\"Регистрация блоков\"\"\"\n",
    "        super().__init__()\n",
    "        self.conv2d = nn.Conv2d(in_channels=3, out_channels=16, kernel_size=3, stride=2, padding=1)\n",
    "        self.maxpool = nn.MaxPool2d(kernel_size=2, stride=2)\n",
    "        self.flatten = nn.Flatten(0)\n",
    "        self.fc1 = nn.Linear(16384, 512)\n",
    "        self.fc2 = nn.Linear(512, 26, bias=False)\n",
    "        self.relu = nn.ReLU()\n",
    "        self.softmax = nn.Softmax()\n",
    "        \n",
    "    def forward(self, x):\n",
    "        \"\"\"Прямой проход\"\"\"\n",
    "        x = self.conv2d(x)\n",
    "        x = self.relu(x)\n",
    "        x = self.maxpool(x)\n",
    "        x = self.flatten(x)\n",
    "        x = self.fc1(x)\n",
    "        x = self.relu(x)\n",
    "        x = self.fc2(x)\n",
    "        return self.softmax(x)\n",
    "\n",
    "model = ConvNet()"
   ]
  },
  {
   "cell_type": "code",
   "execution_count": 14,
   "id": "435f3982-1108-4f11-b5e1-4a701d605447",
   "metadata": {},
   "outputs": [
    {
     "data": {
      "text/plain": [
       "ConvNet(\n",
       "  (conv2d): Conv2d(3, 16, kernel_size=(3, 3), stride=(2, 2), padding=(1, 1))\n",
       "  (maxpool): MaxPool2d(kernel_size=2, stride=2, padding=0, dilation=1, ceil_mode=False)\n",
       "  (flatten): Flatten(start_dim=0, end_dim=-1)\n",
       "  (fci): Linear(in_features=16384, out_features=512, bias=True)\n",
       "  (fc2): Linear(in_features=512, out_features=26, bias=False)\n",
       "  (relu): ReLU()\n",
       "  (softmax): Softmax(dim=None)\n",
       ")"
      ]
     },
     "execution_count": 14,
     "metadata": {},
     "output_type": "execute_result"
    }
   ],
   "source": [
    "model"
   ]
  },
  {
   "cell_type": "code",
   "execution_count": 7,
   "id": "9ba3b885-c55d-457e-a9ad-769ab1c1b41e",
   "metadata": {},
   "outputs": [],
   "source": [
    "#model(x_input)"
   ]
  },
  {
   "cell_type": "markdown",
   "id": "1f30d373-0079-41bf-ba10-db7937590ef4",
   "metadata": {},
   "source": [
    "``` python\n",
    "loss= 'categorical_crossentropy'\n",
    "optimizer= 'Adam'\n",
    "metrics= 'accuracy'\n",
    "```"
   ]
  },
  {
   "cell_type": "markdown",
   "id": "c3cfdd53",
   "metadata": {},
   "source": [
    "# VGG:"
   ]
  },
  {
   "cell_type": "markdown",
   "id": "4ca1229e",
   "metadata": {},
   "source": [
    "Группа свёрток"
   ]
  },
  {
   "cell_type": "markdown",
   "id": "b7516f04",
   "metadata": {},
   "source": [
    "<img src=\"images/convolution_group.png\" alt=\"VGG Convolutional Group\" width=90% height=90% >"
   ]
  },
  {
   "cell_type": "markdown",
   "id": "4d447cc5",
   "metadata": {},
   "source": [
    "<img src=\"images/VGG_16.png\" alt=\"VGG CNN\" width=90% height=90% >"
   ]
  },
  {
   "cell_type": "markdown",
   "id": "9bdfd313",
   "metadata": {},
   "source": [
    "**Input:**"
   ]
  },
  {
   "cell_type": "code",
   "execution_count": null,
   "id": "04d2ca50",
   "metadata": {},
   "outputs": [],
   "source": [
    "img_size = 224\n",
    "x_input = torch.randn((3, img_size, img_size))"
   ]
  },
  {
   "cell_type": "markdown",
   "id": "4d35372c",
   "metadata": {},
   "source": [
    "**nn.Sequential:**"
   ]
  },
  {
   "cell_type": "code",
   "execution_count": 2,
   "id": "0e8b21fe",
   "metadata": {},
   "outputs": [],
   "source": [
    "model = nn.Sequential(\n",
    "    nn.Conv2d(3, 64, kernel_size=3, stride=1, padding=1),\n",
    "    nn.ReLU(),\n",
    "    nn.Conv2d(64, 64, kernel_size=3, stride=1, padding=1),\n",
    "    nn.ReLU(),\n",
    "    nn.MaxPool2d(2, 2),\n",
    "    \n",
    "    nn.Conv2d(128, 128, kernel_size=3, stride=1, padding=1),\n",
    "    nn.ReLU(),\n",
    "    nn.Conv2d(128, 128, kernel_size=3, stride=1, padding=1),\n",
    "    nn.ReLU(),\n",
    "    nn.MaxPool2d(2, 2),\n",
    "    \n",
    "    nn.Conv2d(256, 256, kernel_size=3, stride=1, padding=1),\n",
    "    nn.ReLU(),\n",
    "    nn.Conv2d(256, 256, kernel_size=3, stride=1, padding=1),\n",
    "    nn.ReLU(),\n",
    "    nn.Conv2d(256, 256, kernel_size=3, stride=1, padding=1),\n",
    "    nn.ReLU(),\n",
    "    nn.MaxPool2d(2, 2),\n",
    "    \n",
    "    nn.Conv2d(512, 512, kernel_size=3, stride=1, padding=1),\n",
    "    nn.ReLU(),\n",
    "    nn.Conv2d(512, 512, kernel_size=3, stride=1, padding=1),\n",
    "    nn.ReLU(),\n",
    "    nn.Conv2d(512, 512, kernel_size=3, stride=1, padding=1),\n",
    "    nn.ReLU(),\n",
    "    nn.MaxPool2d(2, 2),\n",
    "    \n",
    "    nn.Conv2d(512, 512, kernel_size=3, stride=1, padding=1),\n",
    "    nn.ReLU(),\n",
    "    nn.Conv2d(512, 512, kernel_size=3, stride=1, padding=1),\n",
    "    nn.ReLU(),\n",
    "    nn.Conv2d(512, 512, kernel_size=3, stride=1, padding=1),\n",
    "    nn.ReLU(),\n",
    "    nn.MaxPool2d(2, 2),\n",
    "    \n",
    "    nn.Flatten(0),\n",
    "    nn.Linear(16384, 4069),\n",
    "    nn.ReLU(),\n",
    "    nn.Linear(4069, 4069),\n",
    "    nn.ReLU(),\n",
    "    nn.Linear(4069, 1000, bias=False),\n",
    "    nn.Softmax()\n",
    ")"
   ]
  },
  {
   "cell_type": "code",
   "execution_count": 3,
   "id": "e6ca5a67",
   "metadata": {},
   "outputs": [
    {
     "data": {
      "text/plain": [
       "Sequential(\n",
       "  (0): Conv2d(3, 64, kernel_size=(3, 3), stride=(1, 1), padding=(1, 1))\n",
       "  (1): ReLU()\n",
       "  (2): Conv2d(64, 64, kernel_size=(3, 3), stride=(1, 1), padding=(1, 1))\n",
       "  (3): ReLU()\n",
       "  (4): MaxPool2d(kernel_size=2, stride=2, padding=0, dilation=1, ceil_mode=False)\n",
       "  (5): Conv2d(128, 128, kernel_size=(3, 3), stride=(1, 1), padding=(1, 1))\n",
       "  (6): ReLU()\n",
       "  (7): Conv2d(128, 128, kernel_size=(3, 3), stride=(1, 1), padding=(1, 1))\n",
       "  (8): ReLU()\n",
       "  (9): MaxPool2d(kernel_size=2, stride=2, padding=0, dilation=1, ceil_mode=False)\n",
       "  (10): Conv2d(256, 256, kernel_size=(3, 3), stride=(1, 1), padding=(1, 1))\n",
       "  (11): ReLU()\n",
       "  (12): Conv2d(256, 256, kernel_size=(3, 3), stride=(1, 1), padding=(1, 1))\n",
       "  (13): ReLU()\n",
       "  (14): Conv2d(256, 256, kernel_size=(3, 3), stride=(1, 1), padding=(1, 1))\n",
       "  (15): ReLU()\n",
       "  (16): MaxPool2d(kernel_size=2, stride=2, padding=0, dilation=1, ceil_mode=False)\n",
       "  (17): Conv2d(512, 512, kernel_size=(3, 3), stride=(1, 1), padding=(1, 1))\n",
       "  (18): ReLU()\n",
       "  (19): Conv2d(512, 512, kernel_size=(3, 3), stride=(1, 1), padding=(1, 1))\n",
       "  (20): ReLU()\n",
       "  (21): Conv2d(512, 512, kernel_size=(3, 3), stride=(1, 1), padding=(1, 1))\n",
       "  (22): ReLU()\n",
       "  (23): MaxPool2d(kernel_size=2, stride=2, padding=0, dilation=1, ceil_mode=False)\n",
       "  (24): Conv2d(512, 512, kernel_size=(3, 3), stride=(1, 1), padding=(1, 1))\n",
       "  (25): ReLU()\n",
       "  (26): Conv2d(512, 512, kernel_size=(3, 3), stride=(1, 1), padding=(1, 1))\n",
       "  (27): ReLU()\n",
       "  (28): Conv2d(512, 512, kernel_size=(3, 3), stride=(1, 1), padding=(1, 1))\n",
       "  (29): ReLU()\n",
       "  (30): MaxPool2d(kernel_size=2, stride=2, padding=0, dilation=1, ceil_mode=False)\n",
       "  (31): Flatten(start_dim=0, end_dim=-1)\n",
       "  (32): Linear(in_features=16384, out_features=4069, bias=True)\n",
       "  (33): ReLU()\n",
       "  (34): Linear(in_features=4069, out_features=4069, bias=True)\n",
       "  (35): ReLU()\n",
       "  (36): Linear(in_features=4069, out_features=1000, bias=False)\n",
       "  (37): Softmax(dim=None)\n",
       ")"
      ]
     },
     "execution_count": 3,
     "metadata": {},
     "output_type": "execute_result"
    }
   ],
   "source": [
    "model"
   ]
  },
  {
   "cell_type": "markdown",
   "id": "9400dd60",
   "metadata": {},
   "source": [
    "**nn.Module :**"
   ]
  },
  {
   "cell_type": "code",
   "execution_count": 20,
   "id": "1d5f2dbb",
   "metadata": {},
   "outputs": [],
   "source": [
    "class ConvBlock(nn.Module):\n",
    "    def __init__(self, n_layers, n_filters):\n",
    "        super().__init__()\n",
    "        self.conv_block =  nn.Sequential(\n",
    "                         *[nn.Conv2d(n_filters,n_filters,kernel_size=3,stride=1,padding=1) for i in range(n_layers)],\n",
    "                           nn.ReLU(),\n",
    "                           nn.MaxPool2d(kernel_size=2, stride=2))\n",
    "\n",
    "    def forward(self, x):\n",
    "        return self.conv_block(x)\n",
    "\n",
    "\n",
    "class VGG_16(nn.Module):\n",
    "    def __init__(self):\n",
    "        \"\"\"Регистрация блоков\"\"\"\n",
    "        super().__init__()\n",
    "        self.conv2d = nn.Conv2d(in_channels=3, out_channels=64, kernel_size=3, stride=2, padding=1)\n",
    "        self.conv_block1 = ConvBlock(n_layers=1, n_filters=64)\n",
    "        self.conv_block2 = ConvBlock(2, 128)\n",
    "        self.conv_block3 = ConvBlock(3, 256)\n",
    "        self.conv_block4 = ConvBlock(3, 512)\n",
    "        self.conv_block5 = ConvBlock(3, 512)\n",
    "        self.flatten = nn.Flatten(0)\n",
    "        self.fc1 = nn.Linear(16384, 4069)\n",
    "        self.fc2 = nn.Linear(4069, 4069, bias=False)\n",
    "        self.fc3 = nn.Linear(4069, 1000, bias=False)\n",
    "        self.relu = nn.ReLU()\n",
    "        self.softmax = nn.Softmax()\n",
    "    \n",
    "    def forward(self, x):\n",
    "        \"\"\"Прямой проход\"\"\"\n",
    "        x = self.relu(self.conv2d(x))\n",
    "        x = self.conv_block1(x)\n",
    "        x = self.conv_block2(x)\n",
    "        x = self.conv_block3(x)\n",
    "        x = self.conv_block4(x)\n",
    "        x = self.conv_block5(x)\n",
    "        x = self.flatten(x)\n",
    "        x = self.relu(self.fc1(x))\n",
    "        x = self.relu(self.fc2(x))\n",
    "        return self.softmax(self.fc3(x))\n",
    "\n",
    "model = VGG_16()"
   ]
  },
  {
   "cell_type": "code",
   "execution_count": 21,
   "id": "ce70c0b2",
   "metadata": {},
   "outputs": [
    {
     "data": {
      "text/plain": [
       "VGG_16(\n",
       "  (conv2d): Conv2d(3, 64, kernel_size=(3, 3), stride=(2, 2), padding=(1, 1))\n",
       "  (conv_block1): ConvBlock(\n",
       "    (conv_block): Sequential(\n",
       "      (0): Conv2d(64, 64, kernel_size=(3, 3), stride=(1, 1), padding=(1, 1))\n",
       "      (1): ReLU()\n",
       "      (2): MaxPool2d(kernel_size=2, stride=2, padding=0, dilation=1, ceil_mode=False)\n",
       "    )\n",
       "  )\n",
       "  (conv_block2): ConvBlock(\n",
       "    (conv_block): Sequential(\n",
       "      (0): Conv2d(128, 128, kernel_size=(3, 3), stride=(1, 1), padding=(1, 1))\n",
       "      (1): Conv2d(128, 128, kernel_size=(3, 3), stride=(1, 1), padding=(1, 1))\n",
       "      (2): ReLU()\n",
       "      (3): MaxPool2d(kernel_size=2, stride=2, padding=0, dilation=1, ceil_mode=False)\n",
       "    )\n",
       "  )\n",
       "  (conv_block3): ConvBlock(\n",
       "    (conv_block): Sequential(\n",
       "      (0): Conv2d(256, 256, kernel_size=(3, 3), stride=(1, 1), padding=(1, 1))\n",
       "      (1): Conv2d(256, 256, kernel_size=(3, 3), stride=(1, 1), padding=(1, 1))\n",
       "      (2): Conv2d(256, 256, kernel_size=(3, 3), stride=(1, 1), padding=(1, 1))\n",
       "      (3): ReLU()\n",
       "      (4): MaxPool2d(kernel_size=2, stride=2, padding=0, dilation=1, ceil_mode=False)\n",
       "    )\n",
       "  )\n",
       "  (conv_block4): ConvBlock(\n",
       "    (conv_block): Sequential(\n",
       "      (0): Conv2d(512, 512, kernel_size=(3, 3), stride=(1, 1), padding=(1, 1))\n",
       "      (1): Conv2d(512, 512, kernel_size=(3, 3), stride=(1, 1), padding=(1, 1))\n",
       "      (2): Conv2d(512, 512, kernel_size=(3, 3), stride=(1, 1), padding=(1, 1))\n",
       "      (3): ReLU()\n",
       "      (4): MaxPool2d(kernel_size=2, stride=2, padding=0, dilation=1, ceil_mode=False)\n",
       "    )\n",
       "  )\n",
       "  (conv_block5): ConvBlock(\n",
       "    (conv_block): Sequential(\n",
       "      (0): Conv2d(512, 512, kernel_size=(3, 3), stride=(1, 1), padding=(1, 1))\n",
       "      (1): Conv2d(512, 512, kernel_size=(3, 3), stride=(1, 1), padding=(1, 1))\n",
       "      (2): Conv2d(512, 512, kernel_size=(3, 3), stride=(1, 1), padding=(1, 1))\n",
       "      (3): ReLU()\n",
       "      (4): MaxPool2d(kernel_size=2, stride=2, padding=0, dilation=1, ceil_mode=False)\n",
       "    )\n",
       "  )\n",
       "  (flatten): Flatten(start_dim=0, end_dim=-1)\n",
       "  (fc1): Linear(in_features=16384, out_features=4069, bias=True)\n",
       "  (fc2): Linear(in_features=4069, out_features=4069, bias=False)\n",
       "  (fc3): Linear(in_features=4069, out_features=1000, bias=False)\n",
       "  (relu): ReLU()\n",
       "  (softmax): Softmax(dim=None)\n",
       ")"
      ]
     },
     "execution_count": 21,
     "metadata": {},
     "output_type": "execute_result"
    }
   ],
   "source": [
    "model"
   ]
  },
  {
   "cell_type": "code",
   "execution_count": null,
   "id": "cb92343d",
   "metadata": {},
   "outputs": [],
   "source": [
    "#model(x_input)"
   ]
  },
  {
   "cell_type": "markdown",
   "id": "081ba2f6",
   "metadata": {},
   "source": [
    "``` python\n",
    "loss= 'categorical_crossentropy'\n",
    "optimizer= 'Adam'\n",
    "metrics= 'accuracy'\n",
    "```"
   ]
  },
  {
   "cell_type": "markdown",
   "id": "58af47ba-b6dd-476a-af35-d9ea47cd3a76",
   "metadata": {},
   "source": [
    "# ResNet:"
   ]
  },
  {
   "cell_type": "markdown",
   "id": "0ae52791-a7c4-40d9-8f9c-6dee671fbf21",
   "metadata": {},
   "source": [
    "<img src=\"images/residual_block.png\" alt=\"Residual Block\" width=50% height=50% >"
   ]
  },
  {
   "cell_type": "markdown",
   "id": "09f96232-fd8f-42f5-96f2-7c1d84e5a2e7",
   "metadata": {},
   "source": [
    "```python\n",
    "VGG: h(x) = f(x, {W})\n",
    "ResNet: h(x) = f(x, {W}) + x\n",
    "```"
   ]
  },
  {
   "cell_type": "code",
   "execution_count": 3,
   "id": "d1ae4649-2ae3-4d27-ab76-35ebf14026d6",
   "metadata": {},
   "outputs": [],
   "source": [
    "class ResidualBlock(nn.Module):\n",
    "    def __init__(self, n_filters):\n",
    "        super().__init__()\n",
    "        self.conv1 = nn.Conv2d(n_filters,n_filters,kernel_size=3,stride=1,padding=1)\n",
    "        self.conv2 = nn.Conv2d(n_filters,n_filters,kernel_size=3,stride=1,padding=1)\n",
    "    \n",
    "    def forward(self, x):\n",
    "        shortcut = x\n",
    "        x = nn.ReLU()(self.conv1(x))\n",
    "        x = nn.ReLU()(self.conv2(x))\n",
    "        x = shortcut + x\n",
    "        return x"
   ]
  },
  {
   "cell_type": "code",
   "execution_count": 9,
   "id": "33e81d81-233a-424a-9425-ddb2c7eee7eb",
   "metadata": {},
   "outputs": [
    {
     "data": {
      "text/plain": [
       "ResidualBlock(\n",
       "  (conv1): Conv2d(64, 64, kernel_size=(3, 3), stride=(1, 1), padding=(1, 1))\n",
       "  (conv2): Conv2d(64, 64, kernel_size=(3, 3), stride=(1, 1), padding=(1, 1))\n",
       ")"
      ]
     },
     "execution_count": 9,
     "metadata": {},
     "output_type": "execute_result"
    }
   ],
   "source": [
    "res_block = ResidualBlock(64)\n",
    "res_block"
   ]
  },
  {
   "cell_type": "markdown",
   "id": "c36ef0b3-45f3-4b40-a478-2b04ea398fbe",
   "metadata": {},
   "source": [
    "<img src=\"images/bottleneck_block.png\" alt=\"Bottleneck Block\" width=50% height=50% >"
   ]
  },
  {
   "cell_type": "code",
   "execution_count": 7,
   "id": "20655382-9488-4393-afcf-1fd6c81c7544",
   "metadata": {},
   "outputs": [],
   "source": [
    "class BottleneckBlock(nn.Module):\n",
    "    def __init__(self, n_filters):\n",
    "        super().__init__()\n",
    "        self.conv1 = nn.Conv2d(n_filters,n_filters,kernel_size=3,stride=1,padding=1)\n",
    "        self.conv2 = nn.Conv2d(n_filters,n_filters,kernel_size=3,stride=1,padding=1)\n",
    "        self.conv3 = nn.Conv2d(n_filters,4*n_filters,kernel_size=3,stride=1,padding=1)\n",
    "        \n",
    "    def forward(self, x):\n",
    "        shortcut = x\n",
    "        x = nn.ReLU()(self.conv1(x))\n",
    "        x = nn.ReLU()(self.conv2(x))\n",
    "        x = nn.ReLU()(self.conv3(x))\n",
    "        x = shortcut + x\n",
    "        return x"
   ]
  },
  {
   "cell_type": "code",
   "execution_count": 10,
   "id": "8f7b5a99-8add-4bba-bb17-0b0dfc927cd2",
   "metadata": {},
   "outputs": [
    {
     "data": {
      "text/plain": [
       "BottleneckBlock(\n",
       "  (conv1): Conv2d(128, 128, kernel_size=(3, 3), stride=(1, 1), padding=(1, 1))\n",
       "  (conv2): Conv2d(128, 128, kernel_size=(3, 3), stride=(1, 1), padding=(1, 1))\n",
       "  (conv3): Conv2d(128, 512, kernel_size=(3, 3), stride=(1, 1), padding=(1, 1))\n",
       ")"
      ]
     },
     "execution_count": 10,
     "metadata": {},
     "output_type": "execute_result"
    }
   ],
   "source": [
    "bottleneck = BottleneckBlock(128)\n",
    "bottleneck"
   ]
  },
  {
   "cell_type": "markdown",
   "id": "4e765cd8-09a8-4ae2-8770-ffedcf54eab1",
   "metadata": {},
   "source": [
    "**BatchNorm**"
   ]
  },
  {
   "cell_type": "markdown",
   "id": "961c0f0c-ca23-4407-8d5f-d290dea59d12",
   "metadata": {},
   "source": [
    "https://pytorch.org/docs/stable/generated/torch.nn.BatchNorm2d.html"
   ]
  },
  {
   "cell_type": "markdown",
   "id": "ea507a34-e835-4641-8d74-03d317f036df",
   "metadata": {},
   "source": [
    "$$\n",
    "y = {{x - E|x| } \\over \\sqrt{Var|x| + epsilon}} * gamma + betta\n",
    "$$"
   ]
  },
  {
   "cell_type": "code",
   "execution_count": 6,
   "id": "3dbf4d72-0ae2-43a4-8e40-6043cea5916c",
   "metadata": {},
   "outputs": [],
   "source": [
    "# With Learnable Parameters\n",
    "m = nn.BatchNorm2d(100)\n",
    "input = torch.randn(20, 100, 35, 45)\n",
    "output = m(input)"
   ]
  },
  {
   "cell_type": "code",
   "execution_count": 5,
   "id": "b3ed423e-c8bb-4a3a-988c-3d89aef737f0",
   "metadata": {},
   "outputs": [
    {
     "data": {
      "text/plain": [
       "torch.Size([20, 100, 35, 45])"
      ]
     },
     "execution_count": 5,
     "metadata": {},
     "output_type": "execute_result"
    }
   ],
   "source": [
    "output.shape"
   ]
  },
  {
   "cell_type": "code",
   "execution_count": null,
   "id": "b1d8dd9e-473a-4be0-8c63-9720658ffd98",
   "metadata": {},
   "outputs": [],
   "source": []
  }
 ],
 "metadata": {
  "kernelspec": {
   "display_name": "Python 3",
   "language": "python",
   "name": "python3"
  },
  "language_info": {
   "codemirror_mode": {
    "name": "ipython",
    "version": 3
   },
   "file_extension": ".py",
   "mimetype": "text/x-python",
   "name": "python",
   "nbconvert_exporter": "python",
   "pygments_lexer": "ipython3",
   "version": "3.7.10"
  }
 },
 "nbformat": 4,
 "nbformat_minor": 5
}
