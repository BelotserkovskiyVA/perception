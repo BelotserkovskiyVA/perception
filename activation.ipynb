{
 "cells": [
  {
   "cell_type": "code",
   "execution_count": 1,
   "id": "97663c62",
   "metadata": {},
   "outputs": [
    {
     "name": "stderr",
     "output_type": "stream",
     "text": [
      "/opt/conda/lib/python3.8/site-packages/tqdm/auto.py:22: TqdmWarning: IProgress not found. Please update jupyter and ipywidgets. See https://ipywidgets.readthedocs.io/en/stable/user_install.html\n",
      "  from .autonotebook import tqdm as notebook_tqdm\n"
     ]
    }
   ],
   "source": [
    "# Importing the necessary libraries\n",
    "import numpy as np\n",
    "import matplotlib.pyplot as plt\n",
    "import torchvision\n",
    "import torch"
   ]
  },
  {
   "cell_type": "markdown",
   "id": "9f5a11ed",
   "metadata": {},
   "source": [
    "**Regression**"
   ]
  },
  {
   "cell_type": "markdown",
   "id": "0fa58724",
   "metadata": {},
   "source": [
    "Выходные данные непрерывны, например, цена дома"
   ]
  },
  {
   "cell_type": "markdown",
   "id": "7c1958e9",
   "metadata": {},
   "source": [
    "[микрорайон, площадь, этаж, и др.] –> нейронная сеть –> [цена дома]"
   ]
  },
  {
   "cell_type": "code",
   "execution_count": 2,
   "id": "5bf1d386",
   "metadata": {},
   "outputs": [],
   "source": [
    "# Creating a Regressor class\n",
    "class Regressor(torch.nn.Module):\n",
    "    def __init__(self, inputs):\n",
    "        super().__init__()        \n",
    "        self.encoder = torch.nn.Sequential(\n",
    "            torch.nn.Linear(inputs, 256),\n",
    "            torch.nn.ReLU(),\n",
    "            torch.nn.Linear(256, 128),\n",
    "            torch.nn.ReLU(),\n",
    "            torch.nn.Linear(128, 64),\n",
    "            torch.nn.ReLU(),\n",
    "            torch.nn.Linear(64, 1),\n",
    "            torch.nn.ReLU()\n",
    "        )\n",
    "\n",
    "    def forward(self, x):\n",
    "        return self.encoder(x)"
   ]
  },
  {
   "cell_type": "code",
   "execution_count": 3,
   "id": "d6f680f5",
   "metadata": {},
   "outputs": [],
   "source": [
    "actvation = 'relu' # (rectified linear unit)\n",
    "loss = 'MSE' # mean square error\n",
    "optimizer = 'rmsprop' # обратное распространение корня квадратного из среднеквадратичной ошибки"
   ]
  },
  {
   "cell_type": "markdown",
   "id": "b518ba23",
   "metadata": {},
   "source": [
    "$$\n",
    "F(x) = max(0, x)\n",
    "$$"
   ]
  },
  {
   "cell_type": "markdown",
   "id": "ff3c626e",
   "metadata": {},
   "source": [
    "<img src=\"images/ReLU.png\" alt=\"ReLU\" height=50% width=50%>"
   ]
  },
  {
   "cell_type": "raw",
   "id": "a6312b9f",
   "metadata": {},
   "source": []
  },
  {
   "cell_type": "markdown",
   "id": "50732897",
   "metadata": {},
   "source": [
    "**Binary classification** (logistic regression)"
   ]
  },
  {
   "cell_type": "markdown",
   "id": "a0f9928f",
   "metadata": {},
   "source": [
    "Выходные данные могут иметь два состояния или класса: да/нет, истина/ложь, 0/1 и так далее."
   ]
  },
  {
   "cell_type": "markdown",
   "id": "77501b18",
   "metadata": {},
   "source": [
    "(Пасажиры Титаника) [Возраст, Пол, Класс, и др.] –> нейронная сеть –> [Выживет/Не выживет]"
   ]
  },
  {
   "cell_type": "code",
   "execution_count": 4,
   "id": "cf881bb8",
   "metadata": {},
   "outputs": [],
   "source": [
    "# Creating a BinaryClassifier class\n",
    "class BinaryClassifier(torch.nn.Module):\n",
    "    def __init__(self, inputs):\n",
    "        super().__init__()        \n",
    "        self.encoder = torch.nn.Sequential(\n",
    "            torch.nn.Linear(inputs, 256),\n",
    "            torch.nn.ReLU(),\n",
    "            torch.nn.Linear(256, 128),\n",
    "            torch.nn.ReLU(),\n",
    "            torch.nn.Linear(128, 64),\n",
    "            torch.nn.ReLU(),\n",
    "            torch.nn.Linear(64, 1),\n",
    "            torch.nn.Sigmoid()\n",
    "        )\n",
    "\n",
    "    def forward(self, x):\n",
    "        return self.encoder(x)"
   ]
  },
  {
   "cell_type": "code",
   "execution_count": 5,
   "id": "3566b2e7",
   "metadata": {},
   "outputs": [],
   "source": [
    "actvation = 'sigmoid'\n",
    "loss = 'binary_crossentropy'\n",
    "optimizer = 'rmsprop'\n",
    "metrics = 'accuracy'"
   ]
  },
  {
   "cell_type": "markdown",
   "id": "36401280",
   "metadata": {},
   "source": [
    "$$\n",
    "F(x) = {1 \\over 1 + e^{-x}}\n",
    "$$"
   ]
  },
  {
   "cell_type": "markdown",
   "id": "358ec7d2",
   "metadata": {},
   "source": [
    "<img src=\"images/Sigmoid.png\" alt=\"Sigmoid\" height=50% width=50%>"
   ]
  },
  {
   "cell_type": "raw",
   "id": "18003350",
   "metadata": {},
   "source": []
  },
  {
   "cell_type": "markdown",
   "id": "5601a4c9",
   "metadata": {},
   "source": [
    "**Multiclass classification** (multinominal logistic regression)"
   ]
  },
  {
   "cell_type": "markdown",
   "id": "29ddca05",
   "metadata": {},
   "source": [
    "Допустим, у нас есть набор антропометрических показателей (к примеру, рост, вес и пол), и мы хотим предсказывать, является ли некто **новорожденным, малышом, ребёнком, подростком или взрослым**. Мы хотим, чтобы наша модель классифицировала или предсказывала более чем из одного класса или метки – в данном примере у нас в сумме пять классов возрастных категорий. "
   ]
  },
  {
   "cell_type": "markdown",
   "id": "c6e2bf27",
   "metadata": {},
   "source": [
    "[рост, вес, пол, и др.] –> нейронная сеть –> [подросток]"
   ]
  },
  {
   "cell_type": "code",
   "execution_count": 6,
   "id": "43093513",
   "metadata": {},
   "outputs": [],
   "source": [
    "# Creating a MulticlassClassifier class\n",
    "class MulticlassClassifier(torch.nn.Module):\n",
    "    def __init__(self, inputs, output):\n",
    "        super().__init__()        \n",
    "        self.encoder = torch.nn.Sequential(\n",
    "            torch.nn.Linear(inputs, 256),\n",
    "            torch.nn.ReLU(),\n",
    "            torch.nn.Linear(256, 128),\n",
    "            torch.nn.ReLU(),\n",
    "            torch.nn.Linear(128, 64),\n",
    "            torch.nn.ReLU(),\n",
    "            torch.nn.Linear(64, output),\n",
    "            torch.nn.Softmax()\n",
    "        )\n",
    "\n",
    "    def forward(self, x):\n",
    "        return self.encoder(x)"
   ]
  },
  {
   "cell_type": "code",
   "execution_count": 7,
   "id": "3b4273d8",
   "metadata": {},
   "outputs": [],
   "source": [
    "actvation = 'softmax'\n",
    "loss = 'categorical_crossentropy' # в отличии от бинарного классификатора\n",
    "optimizer = 'adam' # rmsprop + adagrad (адаптивный градиент), а также адаптивная скорость обучения\n",
    "metrics = 'accuracy'"
   ]
  },
  {
   "cell_type": "markdown",
   "id": "5d6e7eaa",
   "metadata": {},
   "source": [
    "Softmax применяется в тех случаях, когда необходимо, чтобы сумма элементов была равно 1, а каждый элемент принадлежал интервалу [0; 1]"
   ]
  },
  {
   "cell_type": "markdown",
   "id": "a74ef24e",
   "metadata": {},
   "source": [
    "$$\n",
    "F(x) = {e^{x} \\over \\sum_j e^{x_j}}\n",
    "$$"
   ]
  },
  {
   "cell_type": "markdown",
   "id": "22aafdfb",
   "metadata": {},
   "source": [
    "<img src=\"images/softmax.png\" alt=\"softmax\" height=70% width=70%>"
   ]
  },
  {
   "cell_type": "raw",
   "id": "a2ee8103",
   "metadata": {},
   "source": []
  },
  {
   "cell_type": "markdown",
   "id": "bc69c5e5",
   "metadata": {},
   "source": [
    "**Multi-label multi-class classification**"
   ]
  },
  {
   "cell_type": "markdown",
   "id": "bfb7149b",
   "metadata": {},
   "source": [
    "На этот раз мы удалим пол как один из признаков и вместо этого сделаем его одной из меток, которую будем предсказывать. "
   ]
  },
  {
   "cell_type": "markdown",
   "id": "9094fdf0",
   "metadata": {},
   "source": [
    "[рост, вес, и др.] –> нейронная сеть –> [подросток, женского пола]"
   ]
  },
  {
   "cell_type": "markdown",
   "id": "8c78f0fd",
   "metadata": {},
   "source": [
    "Число выходных классов в выходном слое равно сумме всех выходных категорий. В данном случае раньше у нас их было пять, а теперь мы добавляем еще два для пола, в общей сложности семь. Мы также хотим трактовать каждый выходной класс как двоичный классификатор, и, стало быть, нам нужен ответ типа«да/нет», поэтому мы меняем активационную функцию на сигмоиду."
   ]
  },
  {
   "cell_type": "code",
   "execution_count": 8,
   "id": "026674a2",
   "metadata": {},
   "outputs": [],
   "source": [
    "# Creating a Multi-label MulticlassClassifier class\n",
    "class MultilabelMulticlassClassifier_1(torch.nn.Module):\n",
    "    def __init__(self, inputs, output):\n",
    "        super().__init__()        \n",
    "        self.encoder = torch.nn.Sequential(\n",
    "            torch.nn.Linear(inputs, 256),\n",
    "            torch.nn.ReLU(),\n",
    "            torch.nn.Linear(256, 128),\n",
    "            torch.nn.ReLU(),\n",
    "            torch.nn.Linear(128, 64),\n",
    "            torch.nn.ReLU(),\n",
    "            torch.nn.Linear(64, output),\n",
    "            torch.nn.Sigmoid()\n",
    "        )\n",
    "\n",
    "\n",
    "    def forward(self, x):\n",
    "        return self.encoder(x)"
   ]
  },
  {
   "cell_type": "code",
   "execution_count": 9,
   "id": "967bd3f2",
   "metadata": {},
   "outputs": [],
   "source": [
    "actvation = 'sigmoid'\n",
    "loss = 'binary_crossentropy'\n",
    "optimizer = 'rmsprop'\n",
    "metrics = 'accuracy'"
   ]
  },
  {
   "cell_type": "markdown",
   "id": "42073f33",
   "metadata": {},
   "source": [
    "**Потенциальная проблема:**\n",
    "Давайте допустим, что мы выдаем два класса с самыми высокими значениями (от 0 до 1); то есть наиболее уверенные предсказания. Что делать, если в результате нейронная сеть с высокой\n",
    "уверенностью предсказывает и взрослого, и подростка, а также с меньшей уверенностью мужской пол, и женский пол? "
   ]
  },
  {
   "cell_type": "markdown",
   "id": "2f0cb2c9",
   "metadata": {},
   "source": [
    "**Добавим постобработку -**\n",
    "выбираем наивысшую уверенность из первых пяти выходных классов (возраст) и наивысшую уверенность из последних\n",
    "двух классов (пол). Другими словами, мы делим семь выходных классов на две соответствующие категории и из каждой категории выбираем выход с наивысшим уровнем уверенности."
   ]
  },
  {
   "cell_type": "markdown",
   "id": "c23ad9fe",
   "metadata": {},
   "source": [
    "```python\n",
    "mm_classifier = MultilabelMulticlassClassifier_1(inputs, output)\n",
    "y = mm_classifier(x)\n",
    "age = max(y[:5])\n",
    "sex = max(y[-2:])\n",
    "```"
   ]
  },
  {
   "cell_type": "raw",
   "id": "650b5bbc",
   "metadata": {},
   "source": []
  },
  {
   "cell_type": "markdown",
   "id": "8bfccfa3",
   "metadata": {},
   "source": [
    "Другой способ решить проблему:"
   ]
  },
  {
   "cell_type": "markdown",
   "id": "4e3119a2",
   "metadata": {},
   "source": [
    "<img src=\"images/MultilabelMulticlassClassifier.png\" alt=\"MultilabelMulticlassClassifier\" height=70% width=70%>"
   ]
  },
  {
   "cell_type": "markdown",
   "id": "fe42d12b",
   "metadata": {},
   "source": [
    "Поскольку каждый выходной слой делает независимые предсказания, мы можем вернуться к их трактовке как мультиклассового классификатора – и, стало быть, мы возвращаемся к использованию 'softmax' в качестве активационной функции, 'categorical_crossentropy' в качестве функции потери и 'adam' в качестве оптимизатора."
   ]
  },
  {
   "cell_type": "code",
   "execution_count": 10,
   "id": "2f9a9330",
   "metadata": {},
   "outputs": [],
   "source": [
    "# Creating a Multi-label MulticlassClassifier class\n",
    "class MultilabelMulticlassClassifier_2(torch.nn.Module):\n",
    "    def __init__(self, inputs, output1, output2):\n",
    "        super().__init__()        \n",
    "        self.encoder = torch.nn.Sequential(\n",
    "            torch.nn.Linear(inputs, 256),\n",
    "            torch.nn.ReLU(),\n",
    "            torch.nn.Linear(256, 128),\n",
    "            torch.nn.ReLU(),\n",
    "            torch.nn.Linear(128, 64),\n",
    "            torch.nn.ReLU(),\n",
    "        )\n",
    "        self.output1 = torch.nn.Sequental(\n",
    "            torch.nn.Linear(64, output1),\n",
    "            torch.nn.Softmax()\n",
    "        )\n",
    "        self.output2 = torch.nn.Sequental(\n",
    "            torch.nn.Linear(64, output2),\n",
    "            torch.nn.Softmax()\n",
    "        )\n",
    "\n",
    "    def forward(self, x):\n",
    "        encode = self.encoder(x)\n",
    "        out1 = self.output1(encode)\n",
    "        out2 = self.output2(encode)\n",
    "        return torch.cat((out1, out2), dim=0)"
   ]
  },
  {
   "cell_type": "code",
   "execution_count": 11,
   "id": "37082a05",
   "metadata": {},
   "outputs": [],
   "source": [
    "actvation = 'softmax', 'softmax'\n",
    "loss = 'categorical_crossentropy'\n",
    "optimizer = 'adam' \n",
    "metrics = 'accuracy'"
   ]
  },
  {
   "cell_type": "code",
   "execution_count": null,
   "id": "27469c3d",
   "metadata": {},
   "outputs": [],
   "source": []
  },
  {
   "cell_type": "code",
   "execution_count": null,
   "id": "bdddb1d7",
   "metadata": {},
   "outputs": [],
   "source": []
  }
 ],
 "metadata": {
  "kernelspec": {
   "display_name": "Python 3",
   "language": "python",
   "name": "python3"
  },
  "language_info": {
   "codemirror_mode": {
    "name": "ipython",
    "version": 3
   },
   "file_extension": ".py",
   "mimetype": "text/x-python",
   "name": "python",
   "nbconvert_exporter": "python",
   "pygments_lexer": "ipython3",
   "version": "3.7.10"
  }
 },
 "nbformat": 4,
 "nbformat_minor": 5
}
