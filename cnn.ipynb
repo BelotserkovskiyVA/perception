{
 "cells": [
  {
   "cell_type": "markdown",
   "id": "6511f844",
   "metadata": {},
   "source": [
    "**Свёрточные слой**"
   ]
  },
  {
   "cell_type": "code",
   "execution_count": null,
   "id": "347cb2b4",
   "metadata": {},
   "outputs": [],
   "source": []
  }
 ],
 "metadata": {
  "kernelspec": {
   "display_name": "Python 3 (ipykernel)",
   "language": "python",
   "name": "python3"
  },
  "language_info": {
   "codemirror_mode": {
    "name": "ipython",
    "version": 3
   },
   "file_extension": ".py",
   "mimetype": "text/x-python",
   "name": "python",
   "nbconvert_exporter": "python",
   "pygments_lexer": "ipython3",
   "version": "3.10.6"
  }
 },
 "nbformat": 4,
 "nbformat_minor": 5
}
